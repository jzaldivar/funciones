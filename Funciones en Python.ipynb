{
 "cells": [
  {
   "cell_type": "markdown",
   "metadata": {},
   "source": [
    "# Funciones en Python"
   ]
  },
  {
   "cell_type": "markdown",
   "metadata": {},
   "source": [
    "La mayor parte de las veces, excepto para problemas muy sencillos, es necesario o conveniente dividir la solución de un problema en múltiples soluciones de problemas más sencillos y \"combinar\" de alguna manera estas soluciones para resolver el problema más complejo.\n",
    "\n",
    "Esta subdivisión puede llevarse a cabo mediante una construcción denominada _**función**_.\n",
    "\n",
    "Una función es una secuencia de instrucciones, que tiene un nombre, lleva a cabo un propósito específico y puede (o no) regresar un valor.\n",
    "\n",
    "Aunque las funciones permiten simplificar la solución a un problema al subdividirlo en problemas más sencillos, no es éste el motivo principal para la utilización de funciones.\n",
    "\n",
    "El motivo principal es el *encapsulamiento*, es decir, generar fragmentos sencillos de código que hacen **una sola cosa** (*especialización*) y la **hacen bien**.\n",
    "\n",
    "En general, algunos de los usos (y ventajas) de las funciones son:\n",
    "\n",
    "- Reutilización (dar nombre a segmentos de código)\n",
    "- Flexibilidad (a través del uso de parámetros)\n",
    "- Organización (dividir tareas)\n",
    "\n",
    "La sintaxis para definir una función en Python es:\n",
    "\n",
    "```Python\n",
    "def nombre_de_la_función(entradas):\n",
    "    \"docstring\"\n",
    "    Código que implementa la función\n",
    "    return salidas\n",
    "```\n",
    "        \n",
    "1. La _declaración_ de la función inicia con la palabra reservada `def`, es decir, cuando el intérprete se encuentra con la palabra clave `def`, sabe que a continuación se definirá una función.\n",
    "2. Enseguida, se escribe el nombre de la función, que debe seguir las reglas para los  identificadores.\n",
    "3. Después, se escriben las entradas entre paréntesis; si son varias, se separan por comas. Si no hay ninguna entrada, se escribe un par de paréntesis vacíos. Las entradas de las funciones reciben usualmente el nombre de _argumentos_ o _parámetros_.\n",
    "4. Se termina el renglón con dos puntos (`:`)\n",
    "5. En los renglones siguientes, indentados con respecto al primero, se escriben las instrucciones que implementan la función.\n",
    "5. Se pueden incluir estructuras de decisión (`if`) o de repetición (`for` o `while`), y se pueden anidar a cualquier nivel.\n",
    "5. La primera \"instrucción\" es opcional y se trata de una cadena entrecomillada, llamada _docstring_ (o cadena de documentación). Es una breve descripción de la funcionalidad del código. Si se desea utilizar varios renglones para la _docstring_, se puede utilizar una cadena entre triples comillas (`\"\"\"`) o apóstrofes (`'''`).\n",
    "6. Una instrucción **muy importante** en la definición de una función es la instrucción `return`, que indica el fin de la _ejecución_ de la función y, opcionalmente, el valor que sera _regresado por la función_. Usualmente se escribe al final de la definición, como su último renglón. Sin embargo, es importante recalcar que la instrucción `return` **no** marca el final de la *definición* de la función, únicamente el final de la *ejecución*. El final de la _definición_ se le indica al intérprete de Python cuando la siguiente línea ya no está indentada respecto de la instrucción `def`. Si la función no tiene una instrucción `return` o si no se indica un valor a regresar en la instrucción `return`, la función regresa el valor `None`.\n",
    "\n",
    "El siguiente es un ejemplo sencillo de declaración de una función que suma un par de números:"
   ]
  },
  {
   "cell_type": "code",
   "execution_count": null,
   "metadata": {},
   "outputs": [],
   "source": [
    "def sumar(a, b):\n",
    "    \"Suma dos números\"\n",
    "    suma = a + b\n",
    "    return suma"
   ]
  },
  {
   "cell_type": "markdown",
   "metadata": {},
   "source": [
    "Se declara una función con el nombre `sumar` y se indica que recibirá dos entradas: `a` y `b`. En el _cuerpo_ de la función, se suman los valores que se recibieron como entrada y se asignan a la variable `suma`. El valor de esta variable es regresado como valor de la función. Igualmente, se define una cadena de documentación que indica el propósito de la función.\n"
   ]
  },
  {
   "cell_type": "code",
   "execution_count": null,
   "metadata": {},
   "outputs": [],
   "source": [
    "help(sumar)"
   ]
  },
  {
   "cell_type": "markdown",
   "metadata": {},
   "source": [
    "Se reconocen dos momentos al trabajar con funciones:\n",
    "\n",
    "- La creación de la función (*definición*)\n",
    "- El uso de la función (*llamada*)\n",
    "\n",
    "La definición de la función se realiza una única vez, utilizando la estructura `def` como se mostró más arriba.\n",
    "\n",
    "Para utilizar una función, se le llama _por su nombre_ y se indican, entre paréntesis, los valores de sus argumentos (entradas).\n",
    "\n",
    "***Nota***: A las entradas de la función se les llama ***parámetros*** en el momento de la definición y ***argumentos*** en el momento de la llamada o uso."
   ]
  },
  {
   "cell_type": "code",
   "execution_count": null,
   "metadata": {},
   "outputs": [],
   "source": [
    "print(sumar(7, 12))"
   ]
  },
  {
   "cell_type": "markdown",
   "metadata": {},
   "source": [
    "Obviamente, los parámetros pueden ser variables y el valor regresado por la función puede ser asignado a una variable."
   ]
  },
  {
   "cell_type": "code",
   "execution_count": null,
   "metadata": {},
   "outputs": [],
   "source": [
    "x = 3 * 8\n",
    "y = 2 ** 4\n",
    "z = sumar(x, y)\n",
    "print(z)"
   ]
  },
  {
   "cell_type": "markdown",
   "metadata": {},
   "source": [
    "Vamos a definir otra función que sume cualquier cantidad de números, no sólo dos. Para tal efecto, definimos que el parámetro a recibir sea una lista."
   ]
  },
  {
   "cell_type": "code",
   "execution_count": null,
   "metadata": {},
   "outputs": [],
   "source": [
    "def sumar_lista(numeros):\n",
    "    \"Suma una lista de números\"\n",
    "    suma = 0\n",
    "    for i in numeros:\n",
    "        suma += i\n",
    "    return suma"
   ]
  },
  {
   "cell_type": "markdown",
   "metadata": {},
   "source": [
    "Se llama (o sea, se usa) de la misma manera:"
   ]
  },
  {
   "cell_type": "code",
   "execution_count": null,
   "metadata": {},
   "outputs": [],
   "source": [
    "lista = [1, 2, 5, 8, 2*3, x, y]\n",
    "print(sumar_lista(lista))"
   ]
  },
  {
   "cell_type": "markdown",
   "metadata": {},
   "source": [
    "Esto es sólo un ejemplo, en Python no hace falta definir una función que sume una lista, ya se encuentra definida: `sum`."
   ]
  },
  {
   "cell_type": "code",
   "execution_count": null,
   "metadata": {},
   "outputs": [],
   "source": [
    "print(sum(lista))"
   ]
  },
  {
   "cell_type": "markdown",
   "metadata": {},
   "source": [
    "## Convirtiendo un programa en función"
   ]
  },
  {
   "cell_type": "markdown",
   "metadata": {},
   "source": [
    "En general, si se ha seguido una manera ordenada de escribir un programa, separando las entradas y salidas de los procesos, es sencillo trasformar un programa en una función. \n",
    "\n",
    "1. El primer paso es decidir un nombre descriptivo para la función.\n",
    "2. Se escribe la instrucción `def` seguida del nombre de la función.\n",
    "3. Enseguida del nombre de la función, se escribe una lista de todas las entradas (parámetros), entre paréntesis y separadas por comas. Si no hay entradas, se escribe un par de paréntesis vacíos.\n",
    "4. A continuación se escribe (opcionalmente) la _docstring_.\n",
    "5. Enseguida, el proceso, idéntico a como estaba en el programa original (hay que respetar los nombres de las variables utilizadas, incluyendo las de entrada y salida).\n",
    "6. Finalmente, se termina con un `return` que regresa el valor de la salida.\n",
    "\n",
    "A continuación, un ejemplo con el programa que cuenta las vocales en una cadena. Éste es el programa original:"
   ]
  },
  {
   "cell_type": "code",
   "execution_count": null,
   "metadata": {},
   "outputs": [],
   "source": [
    "\"\"\"vocales.py  Contar las vocales que contiene una frase.\"\"\"\n",
    "\n",
    "# Definiciones\n",
    "VOCALES = 'aeiouáéíóúü'\n",
    "\n",
    "# Entradas\n",
    "frase = input('Introduzca la frase: ')\n",
    "\n",
    "# Proceso\n",
    "contador = 0\n",
    "for letra in frase.lower():\n",
    "    if letra in VOCALES:\n",
    "        contador += 1\n",
    "\n",
    "# Salidas\n",
    "print(f'La frase contiene {contador} vocales.')\n"
   ]
  },
  {
   "cell_type": "markdown",
   "metadata": {},
   "source": [
    "He aquí el programa convertido en función:"
   ]
  },
  {
   "cell_type": "code",
   "execution_count": null,
   "metadata": {},
   "outputs": [],
   "source": [
    "def contar_vocales(frase):\n",
    "    \"Contar las vocales que contiene una frase.\"\n",
    "    # Definiciones\n",
    "    VOCALES = 'aeiouáéíóúü'\n",
    "    # Proceso\n",
    "    contador = 0\n",
    "    for letra in frase.lower():\n",
    "        if letra in VOCALES:\n",
    "            contador += 1\n",
    "    # Salidas\n",
    "    return contador\n",
    "\n",
    "\n",
    "# El código enseguida ya no es parte de la definición de la función,\n",
    "# es únicamente para probar que haya quedado bien definida\n",
    "prueba = input('Introduzca la frase: ')\n",
    "cuantas = contar_vocales(prueba)\n",
    "print(f'La frase contiene {cuantas} vocales.')"
   ]
  },
  {
   "cell_type": "markdown",
   "metadata": {},
   "source": [
    "## Paso de parámetros por nombre"
   ]
  },
  {
   "cell_type": "markdown",
   "metadata": {},
   "source": [
    "La asignación de a qué parámetro se le asigna cada argumento puede ser posicional, como en los ejemplos anteriores. Es decir, el primer argumento se le asigna al primer parámetro; el segundo, al segundo, y así sucesivamente. Esto es muy común pero no es la única manera.\n",
    "\n",
    "Python ofrece la posibilidad de pasar los argumentos por nombre. Comparar las dos formas en el siguiente ejemplo."
   ]
  },
  {
   "cell_type": "code",
   "execution_count": null,
   "metadata": {},
   "outputs": [],
   "source": [
    "def informacion(nombre, edad):\n",
    "    \"Imprime la información que se le pasa a la función\"\n",
    "    print('Nombre:', nombre)\n",
    "    print('Edad:  ', edad)\n",
    "    print()\n",
    "    return\n",
    "\n",
    "\n",
    "# Paso de parámetros por posición\n",
    "informacion('Ana', 28)\n",
    "# Paso de parámetros por nombre\n",
    "informacion(nombre='Paola', edad=29)\n",
    "# Cuando los parámetros se pasan por nombre, no importa el orden\n",
    "informacion(edad=18, nombre='Sigifredo')"
   ]
  },
  {
   "cell_type": "markdown",
   "metadata": {},
   "source": [
    "## Valores por defecto de los argumentos\n",
    "\n",
    "Es posible declarar valores por omisión (o por *default*) para algunos o todos los parámetros de una función. De esta manera, en caso de que no se pasen todos los parámetros, los parámetros omitidos toman su valor por omisión.\n",
    "\n",
    "Los valores por omisión de los parámetros se indican en la declaración de la función de la siguiente manera:\n",
    "\n",
    "```python\n",
    "def nombre_funcion(param_obligatorio, param_opcional=valor_por_omisión):\n",
    "```\n",
    "    \n",
    "Ejemplo:"
   ]
  },
  {
   "cell_type": "code",
   "execution_count": null,
   "metadata": {},
   "outputs": [],
   "source": [
    "def informacion(nombre, edad=1):\n",
    "    \"Imprime la información que se le pasa a la función\"\n",
    "    print('Nombre:', nombre)\n",
    "    print('Edad:  ', edad)\n",
    "    print\n",
    "    return\n",
    "\n",
    "\n",
    "# Si se pasan ambos parámetros, se ignora el valor por omisión\n",
    "informacion(nombre='Paola', edad=29)\n",
    "# Si sólo se pasa un parámetro, el otro toma el valor por omisión\n",
    "informacion(nombre='Sigifredo')\n",
    "# De igual manera si se llama con los parámetros posicionales\n",
    "informacion('Juan Antonio')\n",
    "# Si se omite un parámetro no opcional, se genera un error\n",
    "informacion(edad=30)"
   ]
  },
  {
   "cell_type": "markdown",
   "metadata": {},
   "source": [
    "## `import` - Usando funciones definidas por otros\n",
    "\n",
    "Python es un lenguaje maduro y, como tal, existe una infinidad de programas que ya han sido escritos para él. Muchos de estos programas están disponibles como _módulos_ que se pueden _importar_ para ser usados en nuestros programas.\n",
    "\n",
    "Importar un módulo es similar a escribir en nuestro programa el código del módulo, de tal forma que la funcionalidad del mismo queda a nuestra disposición.\n",
    "\n",
    "Existen varias formas de importar un módulo. Una es la forma:\n",
    "\n",
    "```python\n",
    "import módulo\n",
    "```\n",
    "Al usar esta forma, se importan _*todas*_ las funciones del módulo y, para usarlas, hay que identificarlas precediéndolas del nombre del módulo, en la forma: `módulo.función`."
   ]
  },
  {
   "cell_type": "code",
   "execution_count": null,
   "metadata": {},
   "outputs": [],
   "source": [
    "import math\n",
    "\n",
    "print(math.pi)\n",
    "print(math.cos(math.pi/3))"
   ]
  },
  {
   "cell_type": "markdown",
   "metadata": {},
   "source": [
    "Una variante es la forma:\n",
    "\n",
    "```python\n",
    "import módulo as alias\n",
    "```\n",
    "\n",
    "De esta manera, para llamar a la función se utiliza el `alias` en lugar del nombre del `modulo`."
   ]
  },
  {
   "cell_type": "code",
   "execution_count": null,
   "metadata": {},
   "outputs": [],
   "source": [
    "import numpy as np\n",
    "\n",
    "lst = [1, 4, 7]\n",
    "arr = np.array(lst)\n",
    "\n",
    "print(\"Duplicar una lista:    \", lst * 2)\n",
    "print(\"Multiplicar un arreglo:\", arr * 2)"
   ]
  },
  {
   "cell_type": "markdown",
   "metadata": {},
   "source": [
    "Si sólo se desea importar alguna característica del módulo y no todo el módulo, se puede usar la forma:\n",
    "\n",
    "```python\n",
    "from módulo import función1, función2, ...\n",
    "```\n",
    "\n",
    "Si se importa de esta forma, no es necesario indicar el nombre del módulo al utilizar la función."
   ]
  },
  {
   "cell_type": "code",
   "execution_count": null,
   "metadata": {},
   "outputs": [],
   "source": [
    "from math import tan, pi\n",
    "\n",
    "print(tan(pi/4))"
   ]
  },
  {
   "cell_type": "markdown",
   "metadata": {},
   "source": [
    "Se puede usar esta forma para importar _todas_ las funciones de un módulo:\n",
    "\n",
    "```python\n",
    "from módulo import *\n",
    "```\n",
    "\n",
    "Pero esto no es recomendable porque se estarían importando funciones de las que se desconoce su nombre y los identificadores podrían estar en conflicto con los usados por el programa.\n",
    "\n"
   ]
  },
  {
   "cell_type": "markdown",
   "metadata": {},
   "source": [
    "## Ejercicios\n",
    "\n",
    "1. Escribir una función que determine si un año es bisiesto (`True`) o no (`False`).\n",
    "\n",
    "\n",
    "2. Escribir una función que determine la cantidad de días en un mes dado. Para el mes de febrero se debe considerar si el año es bisiesto, por lo tanto, la función debe tener dos entradas: `mes` (numérico) y `anho`. Utilizar la función anterior para determinar si el año es o no bisiesto. El año deberá ser opcional, si no se indica, se considerará, por omisión que el año no es bisiesto.\n",
    "  \n",
    "3. Usando las dos funciones anteriores, escribir una función que reciba como entrada una fecha en formato `dd/mm/aaaa` y determine la fecha del día siguiente, en el mismo formato.\n",
    "\n",
    "\n",
    "4. Escribir una función que reciba como entrada una fecha en formato `dd/mm/aaaa` y determine la fecha del día anterior, en el mismo formato.\n",
    "\n",
    "\n",
    "5. Usando las funciones anteriores, escribir una función que reciba como entrada una fecha en formato `dd/mm/aaaa` y una cantidad de días (positiva o negativa) y determine la fecha que se obtiene al sumar o restar la cantidad días indicados, en el mismo formato.\n",
    "\n",
    "**_Nota_**: Utilizar únicamente código propio y el trabajado en clase para estos ejercicios. En particular, el módulo `datetime` contiene funciones para realizar estos cálculos, **no se deberá usar**."
   ]
  }
 ],
 "metadata": {
  "anaconda-cloud": {},
  "interpreter": {
   "hash": "1e5a504a27c91785cc20fa5894256130d97c1764e1afe7fb121f7c2e7578e171"
  },
  "kernelspec": {
   "display_name": "Python 3.9.1 64-bit",
   "name": "python3"
  },
  "language_info": {
   "codemirror_mode": {
    "name": "ipython",
    "version": 3
   },
   "file_extension": ".py",
   "mimetype": "text/x-python",
   "name": "python",
   "nbconvert_exporter": "python",
   "pygments_lexer": "ipython3",
   "version": "3.9.1"
  }
 },
 "nbformat": 4,
 "nbformat_minor": 1
}
